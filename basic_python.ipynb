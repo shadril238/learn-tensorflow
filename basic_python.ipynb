{
 "cells": [
  {
   "cell_type": "code",
   "execution_count": 24,
   "id": "08a84b5d",
   "metadata": {},
   "outputs": [
    {
     "name": "stdout",
     "output_type": "stream",
     "text": [
      "<class 'int'>\n",
      "3\n",
      "4\n",
      "2\n",
      "6\n",
      "9\n",
      "4\n",
      "8\n",
      "<class 'float'>\n",
      "2.5 3.5 5.0 6.25\n"
     ]
    }
   ],
   "source": [
    "#shadril238\n",
    "\n",
    "#numbers (int & float)\n",
    "x=3\n",
    "print(type(x))\n",
    "print(x)\n",
    "print(x+1) #addition\n",
    "print(x-1) #subtraction\n",
    "print(x*2) #multiplication\n",
    "print(x**2) #exponentiation\n",
    "\n",
    "x+=1\n",
    "print(x)\n",
    "x*=2\n",
    "print(x)\n",
    "\n",
    "y=2.5\n",
    "print(type(y)) #float\n",
    "\n",
    "print(y, y+1, y*2, y**2)"
   ]
  },
  {
   "cell_type": "code",
   "execution_count": 25,
   "id": "47aebcea",
   "metadata": {},
   "outputs": [
    {
     "name": "stdout",
     "output_type": "stream",
     "text": [
      "<class 'bool'> <class 'bool'>\n",
      "False\n",
      "True\n",
      "False\n",
      "True\n"
     ]
    }
   ],
   "source": [
    "#booleans\n",
    "\n",
    "t=True\n",
    "f=False\n",
    "\n",
    "print(type(t), type(f))\n",
    "print(t and f)\n",
    "print(t or f)\n",
    "print(not t)\n",
    "print(t!=f)"
   ]
  },
  {
   "cell_type": "code",
   "execution_count": 26,
   "id": "2e79c7bc",
   "metadata": {},
   "outputs": [
    {
     "name": "stdout",
     "output_type": "stream",
     "text": [
      "Hello shadril238\n",
      "Print\n",
      "Multiple\n",
      "Lines\n",
      "\n",
      "Print\n",
      "Multiple\n",
      "Lines\n",
      "\n"
     ]
    }
   ],
   "source": [
    "#string\n",
    "\n",
    "print(\"Hello shadril238\")\n",
    "\n",
    "print(\"\"\"Print\n",
    "Multiple\n",
    "Lines\n",
    "\"\"\")\n",
    "\n",
    "print('''Print\n",
    "Multiple\n",
    "Lines\n",
    "''')\n"
   ]
  },
  {
   "cell_type": "code",
   "execution_count": 27,
   "id": "3f4c156a",
   "metadata": {},
   "outputs": [
    {
     "name": "stdout",
     "output_type": "stream",
     "text": [
      "The value of a is 10\n",
      "The value of a plus 5 is 15\n"
     ]
    }
   ],
   "source": [
    "a=10\n",
    "print(f\"The value of a is {a}\")\n",
    "print(f\"The value of a plus 5 is {a+5}\")"
   ]
  },
  {
   "cell_type": "code",
   "execution_count": 28,
   "id": "7aefaf9f",
   "metadata": {},
   "outputs": [
    {
     "name": "stdout",
     "output_type": "stream",
     "text": [
      "a is 5\n",
      "a is 5\n",
      "a is 5\n",
      "a is 5 5\n"
     ]
    }
   ],
   "source": [
    "a=5\n",
    "print(f'a is {a}')\n",
    "print('a is {}'.format(a))\n",
    "print('a is '+ str(a))\n",
    "print('a is %d %d' % (a,a))"
   ]
  },
  {
   "cell_type": "code",
   "execution_count": 29,
   "id": "b1ddc09f",
   "metadata": {},
   "outputs": [
    {
     "name": "stdout",
     "output_type": "stream",
     "text": [
      "The variable a is 5\n",
      "The variable b is also 6\n"
     ]
    }
   ],
   "source": [
    "#condition checking\n",
    "\n",
    "a=5\n",
    "b=6\n",
    "\n",
    "if a==5:\n",
    "    print('The variable a is 5')\n",
    "    if b==6:\n",
    "        print('The variable b is also 6')\n",
    "elif a==6:\n",
    "    print('The variable a is 6')\n",
    "else:\n",
    "    print('anything')"
   ]
  },
  {
   "cell_type": "code",
   "execution_count": 30,
   "id": "7ace6021",
   "metadata": {},
   "outputs": [
    {
     "name": "stdout",
     "output_type": "stream",
     "text": [
      "1\n",
      "2\n",
      "3\n",
      "4\n",
      "5\n",
      "6\n",
      "7\n",
      "8\n",
      "9\n"
     ]
    }
   ],
   "source": [
    "#loop\n",
    "\n",
    "# range(start (optional, default 0), end (exclusive), inc/dec (optional, default 1)\n",
    "for x in range(1,10):\n",
    "    print(x)"
   ]
  },
  {
   "cell_type": "code",
   "execution_count": 31,
   "id": "be0c458a",
   "metadata": {},
   "outputs": [
    {
     "name": "stdout",
     "output_type": "stream",
     "text": [
      "test:  10\n",
      "test:  9\n",
      "test:  8\n",
      "test:  7\n",
      "test:  6\n",
      "test:  5\n",
      "test:  4\n",
      "test:  3\n",
      "test:  2\n"
     ]
    }
   ],
   "source": [
    "for i in range(10, 1,-1):\n",
    "    print(\"test: \",i)\n",
    "    "
   ]
  },
  {
   "cell_type": "code",
   "execution_count": 32,
   "id": "516074ad",
   "metadata": {},
   "outputs": [
    {
     "name": "stdout",
     "output_type": "stream",
     "text": [
      "0 + 1 = 1\n",
      "1 + 2 = 3\n",
      "3 + 3 = 6\n",
      "6 + 4 = 10\n",
      "10 + 5 = 15\n",
      "15 + 6 = 21\n",
      "21 + 7 = 28\n",
      "28 + 8 = 36\n",
      "36 + 9 = 45\n",
      "Final sum: 45\n"
     ]
    }
   ],
   "source": [
    "acc=0\n",
    "for x in range(1,10):\n",
    "    print(f\"{acc} + {x} = \", end=\"\")\n",
    "    acc+=x\n",
    "    print(acc)\n",
    "print(f\"Final sum: {acc}\")"
   ]
  }
 ],
 "metadata": {
  "kernelspec": {
   "display_name": "Python 3 (ipykernel)",
   "language": "python",
   "name": "python3"
  },
  "language_info": {
   "codemirror_mode": {
    "name": "ipython",
    "version": 3
   },
   "file_extension": ".py",
   "mimetype": "text/x-python",
   "name": "python",
   "nbconvert_exporter": "python",
   "pygments_lexer": "ipython3",
   "version": "3.9.12"
  }
 },
 "nbformat": 4,
 "nbformat_minor": 5
}
