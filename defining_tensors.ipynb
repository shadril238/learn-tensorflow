{
 "cells": [
  {
   "cell_type": "code",
   "execution_count": 7,
   "id": "9b6f5eeb",
   "metadata": {},
   "outputs": [],
   "source": [
    "#shadril238\n",
    "#defining_tensors\n",
    "\n",
    "import tensorflow as tf\n",
    "import numpy as np"
   ]
  },
  {
   "cell_type": "code",
   "execution_count": 8,
   "id": "537e358b",
   "metadata": {},
   "outputs": [],
   "source": [
    "m1=[[1.0,2.0],\n",
    "    [3.0,4.0]]\n",
    "\n",
    "m2=np.array([[1.0, 2.0],\n",
    "             [3.0,4.0]], dtype=np.float32)\n",
    "\n",
    "m3=tf.constant([[1.0,2.0],\n",
    "                [3.0,4.0]])"
   ]
  },
  {
   "cell_type": "code",
   "execution_count": 9,
   "id": "f1f504a2",
   "metadata": {},
   "outputs": [
    {
     "name": "stdout",
     "output_type": "stream",
     "text": [
      "<class 'list'>\n",
      "<class 'numpy.ndarray'>\n",
      "<class 'tensorflow.python.framework.ops.EagerTensor'>\n"
     ]
    }
   ],
   "source": [
    "print(type(m1))\n",
    "print(type(m2))\n",
    "print(type(m3))"
   ]
  },
  {
   "cell_type": "code",
   "execution_count": 12,
   "id": "35769788",
   "metadata": {},
   "outputs": [],
   "source": [
    "#creating tensor objects out of the various diifferent types\n",
    "t1=tf.convert_to_tensor(m1, dtype=tf.float32)\n",
    "t2=tf.convert_to_tensor(m2, dtype=tf.float32)\n",
    "t3=tf.convert_to_tensor(m3, dtype=tf.float32)"
   ]
  },
  {
   "cell_type": "code",
   "execution_count": 13,
   "id": "7f1449d7",
   "metadata": {},
   "outputs": [
    {
     "name": "stdout",
     "output_type": "stream",
     "text": [
      "<class 'tensorflow.python.framework.ops.EagerTensor'>\n",
      "<class 'tensorflow.python.framework.ops.EagerTensor'>\n",
      "<class 'tensorflow.python.framework.ops.EagerTensor'>\n"
     ]
    }
   ],
   "source": [
    "print(type(t1))\n",
    "print(type(t2))\n",
    "print(type(t3))"
   ]
  }
 ],
 "metadata": {
  "kernelspec": {
   "display_name": "Python 3 (ipykernel)",
   "language": "python",
   "name": "python3"
  },
  "language_info": {
   "codemirror_mode": {
    "name": "ipython",
    "version": 3
   },
   "file_extension": ".py",
   "mimetype": "text/x-python",
   "name": "python",
   "nbconvert_exporter": "python",
   "pygments_lexer": "ipython3",
   "version": "3.9.16"
  }
 },
 "nbformat": 4,
 "nbformat_minor": 5
}
