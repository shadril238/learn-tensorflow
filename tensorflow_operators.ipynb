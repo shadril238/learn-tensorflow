{
 "cells": [
  {
   "cell_type": "code",
   "execution_count": 70,
   "id": "e068714a",
   "metadata": {},
   "outputs": [],
   "source": [
    "#shadril238\n",
    "#Math Operators\n",
    "\n",
    "import tensorflow as tf"
   ]
  },
  {
   "cell_type": "code",
   "execution_count": 71,
   "id": "5b3d12ba",
   "metadata": {},
   "outputs": [
    {
     "name": "stdout",
     "output_type": "stream",
     "text": [
      "tf.Tensor([[1. 2.]], shape=(1, 2), dtype=float32)\n",
      "tf.Tensor([[3. 4.]], shape=(1, 2), dtype=float32)\n"
     ]
    }
   ],
   "source": [
    "x=tf.constant([[1,2]],dtype = tf.float32)\n",
    "print(x)\n",
    "\n",
    "y=tf.constant([[3,4]],dtype = tf.float32)\n",
    "print(y)"
   ]
  },
  {
   "cell_type": "code",
   "execution_count": 72,
   "id": "84b8af38",
   "metadata": {},
   "outputs": [
    {
     "name": "stdout",
     "output_type": "stream",
     "text": [
      "tf.Tensor([[-1. -2.]], shape=(1, 2), dtype=float32)\n"
     ]
    }
   ],
   "source": [
    "#negation\n",
    "neg_x=tf.negative(x)\n",
    "print(neg_x)"
   ]
  },
  {
   "cell_type": "code",
   "execution_count": 73,
   "id": "c5564b3e",
   "metadata": {},
   "outputs": [
    {
     "name": "stdout",
     "output_type": "stream",
     "text": [
      "tf.Tensor([[4. 6.]], shape=(1, 2), dtype=float32)\n"
     ]
    }
   ],
   "source": [
    "#summation\n",
    "sum_xy=tf.add(x,y) # sum_xy=x+y\n",
    "print(sum_xy)"
   ]
  },
  {
   "cell_type": "code",
   "execution_count": 74,
   "id": "bf32d098",
   "metadata": {},
   "outputs": [
    {
     "name": "stdout",
     "output_type": "stream",
     "text": [
      "tf.Tensor([[-2. -2.]], shape=(1, 2), dtype=float32)\n"
     ]
    }
   ],
   "source": [
    "#subtraction\n",
    "sub_xy=tf.subtract(x,y) # sub_xy=x-y\n",
    "print(sub_xy)"
   ]
  },
  {
   "cell_type": "code",
   "execution_count": 75,
   "id": "c6c3ec63",
   "metadata": {},
   "outputs": [
    {
     "name": "stdout",
     "output_type": "stream",
     "text": [
      "tf.Tensor([[3. 8.]], shape=(1, 2), dtype=float32)\n"
     ]
    }
   ],
   "source": [
    "#multiplication\n",
    "mul_xy=tf.multiply(x,y) # multiply two tensors element-wise\n",
    "print(mul_xy)"
   ]
  },
  {
   "cell_type": "code",
   "execution_count": 76,
   "id": "00689a52",
   "metadata": {},
   "outputs": [
    {
     "name": "stdout",
     "output_type": "stream",
     "text": [
      "tf.Tensor([[ 1. 16.]], shape=(1, 2), dtype=float32)\n"
     ]
    }
   ],
   "source": [
    "#power\n",
    "pow_xy=tf.pow(x,y) #take the element-wise power of x to y\n",
    "print(pow_xy)"
   ]
  },
  {
   "cell_type": "code",
   "execution_count": 77,
   "id": "54f1c97d",
   "metadata": {},
   "outputs": [
    {
     "name": "stdout",
     "output_type": "stream",
     "text": [
      "tf.Tensor([0.60653067 0.90483737 1.         1.105171   1.6487212 ], shape=(5,), dtype=float32)\n"
     ]
    }
   ],
   "source": [
    "#exponential\n",
    "z=tf.constant([-0.5, -0.1, 0, 0.1, 0.5],dtype = tf.float32)\n",
    "exp_z=tf.exp(z, name='exp') #equivalent to pow(e, z), where e is Euler’s number (2.718…)\n",
    "print(exp_z)"
   ]
  },
  {
   "cell_type": "code",
   "execution_count": 78,
   "id": "e72f0082",
   "metadata": {},
   "outputs": [
    {
     "name": "stdout",
     "output_type": "stream",
     "text": [
      "tf.Tensor([[1.        1.4142135]], shape=(1, 2), dtype=float32)\n"
     ]
    }
   ],
   "source": [
    "#square root\n",
    "sq_x=tf.sqrt(x) #equivalent to pow(x,0.5)\n",
    "print(sq_x)"
   ]
  },
  {
   "cell_type": "code",
   "execution_count": 79,
   "id": "f6cbb95a",
   "metadata": {},
   "outputs": [
    {
     "name": "stdout",
     "output_type": "stream",
     "text": [
      "tf.Tensor([[3. 2.]], shape=(1, 2), dtype=float32)\n",
      "tf.Tensor([[3. 2.]], shape=(1, 2), dtype=float32)\n"
     ]
    }
   ],
   "source": [
    "#division\n",
    "div_yx=tf.divide(y,x) #take the element-wise division of y and x\n",
    "print(div_yx)\n",
    "\n",
    "truediv_yx=tf.truediv(y,x) #same as tf.divide, except casts the arguments as a float\n",
    "print(truediv_yx)"
   ]
  },
  {
   "cell_type": "code",
   "execution_count": 80,
   "id": "317fc59b",
   "metadata": {},
   "outputs": [
    {
     "name": "stdout",
     "output_type": "stream",
     "text": [
      "tf.Tensor([[1. 2.]], shape=(1, 2), dtype=float32)\n"
     ]
    }
   ],
   "source": [
    "#mod\n",
    "mod_xy=tf.math.floormod(x,y) #returns the element-wise remainder of division\n",
    "print(mod_xy)"
   ]
  },
  {
   "cell_type": "code",
   "execution_count": 81,
   "id": "8b566aba",
   "metadata": {},
   "outputs": [],
   "source": [
    "#The official documentation carefully lays out all available math ops:https://www.tensorflow.org/api_guides/python/math_ops.\n",
    "\n",
    "# EXERCISE 2.2: Use the TensorFlow operators we've learned so far to produce the Gaussian Distribution \n",
    "#(also known as Normal Distribution). \n",
    "\n",
    "#For reference, you can find the probability density of the normal distribution online: https://en.wikipedia.org/wiki/Normal_distribution."
   ]
  },
  {
   "cell_type": "code",
   "execution_count": 82,
   "id": "d83712e1",
   "metadata": {},
   "outputs": [
    {
     "name": "stdout",
     "output_type": "stream",
     "text": [
      "tf.Tensor([[0.24197073 0.05399097]], shape=(1, 2), dtype=float32)\n"
     ]
    }
   ],
   "source": [
    "from math import pi\n",
    "mean=0.0\n",
    "sigma=1.0\n",
    "\n",
    "normal_distribution= (tf.exp(tf.negative(tf.pow(x - mean, 2.0) / (2.0 * tf.pow(sigma, 2.0) ))) * (1.0/(sigma*tf.sqrt(2.0*pi))))\n",
    "print(normal_distribution)"
   ]
  }
 ],
 "metadata": {
  "kernelspec": {
   "display_name": "Python 3 (ipykernel)",
   "language": "python",
   "name": "python3"
  },
  "language_info": {
   "codemirror_mode": {
    "name": "ipython",
    "version": 3
   },
   "file_extension": ".py",
   "mimetype": "text/x-python",
   "name": "python",
   "nbconvert_exporter": "python",
   "pygments_lexer": "ipython3",
   "version": "3.9.16"
  }
 },
 "nbformat": 4,
 "nbformat_minor": 5
}
